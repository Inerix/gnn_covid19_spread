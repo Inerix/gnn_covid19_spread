{
  "nbformat": 4,
  "nbformat_minor": 0,
  "metadata": {
    "colab": {
      "name": "train_model.ipynb",
      "provenance": []
    },
    "kernelspec": {
      "name": "python3",
      "display_name": "Python 3"
    }
  },
  "cells": [
    {
      "cell_type": "code",
      "metadata": {
        "id": "uh6Umdn744z0",
        "colab_type": "code",
        "colab": {}
      },
      "source": [
        "%matplotlib inline"
      ],
      "execution_count": 0,
      "outputs": []
    },
    {
      "cell_type": "code",
      "metadata": {
        "id": "apgHTBoX5LP9",
        "colab_type": "code",
        "colab": {}
      },
      "source": [
        "import pandas as pd\n",
        "import numpy as np\n",
        "import networkx as nx\n",
        "import matplotlib.pyplot as plt\n",
        "import itertools\n",
        "import datetime as dt\n",
        "import pickle\n",
        "import os"
      ],
      "execution_count": 0,
      "outputs": []
    },
    {
      "cell_type": "code",
      "metadata": {
        "id": "tbkIn66B5Tq3",
        "colab_type": "code",
        "colab": {
          "base_uri": "https://localhost:8080/",
          "height": 215
        },
        "outputId": "1ed3d075-745b-4a77-8338-cd8e4f3b46d6"
      },
      "source": [
        "!pip install dgl"
      ],
      "execution_count": 58,
      "outputs": [
        {
          "output_type": "stream",
          "text": [
            "Requirement already satisfied: dgl in /usr/local/lib/python3.6/dist-packages (0.4.3.post2)\n",
            "Requirement already satisfied: numpy>=1.14.0 in /usr/local/lib/python3.6/dist-packages (from dgl) (1.18.4)\n",
            "Requirement already satisfied: scipy>=1.1.0 in /usr/local/lib/python3.6/dist-packages (from dgl) (1.4.1)\n",
            "Requirement already satisfied: requests>=2.19.0 in /usr/local/lib/python3.6/dist-packages (from dgl) (2.23.0)\n",
            "Requirement already satisfied: networkx>=2.1 in /usr/local/lib/python3.6/dist-packages (from dgl) (2.4)\n",
            "Requirement already satisfied: idna<3,>=2.5 in /usr/local/lib/python3.6/dist-packages (from requests>=2.19.0->dgl) (2.9)\n",
            "Requirement already satisfied: chardet<4,>=3.0.2 in /usr/local/lib/python3.6/dist-packages (from requests>=2.19.0->dgl) (3.0.4)\n",
            "Requirement already satisfied: urllib3!=1.25.0,!=1.25.1,<1.26,>=1.21.1 in /usr/local/lib/python3.6/dist-packages (from requests>=2.19.0->dgl) (1.24.3)\n",
            "Requirement already satisfied: certifi>=2017.4.17 in /usr/local/lib/python3.6/dist-packages (from requests>=2.19.0->dgl) (2020.4.5.1)\n",
            "Requirement already satisfied: decorator>=4.3.0 in /usr/local/lib/python3.6/dist-packages (from networkx>=2.1->dgl) (4.4.2)\n"
          ],
          "name": "stdout"
        }
      ]
    },
    {
      "cell_type": "code",
      "metadata": {
        "id": "1KvsPNX15M-Y",
        "colab_type": "code",
        "colab": {}
      },
      "source": [
        "import dgl\n",
        "import dgl.function as fn\n",
        "import torch as th\n",
        "import torch.nn as nn\n",
        "import torch.nn.functional as F"
      ],
      "execution_count": 0,
      "outputs": []
    },
    {
      "cell_type": "code",
      "metadata": {
        "id": "hDHYIZVVGIoZ",
        "colab_type": "code",
        "colab": {}
      },
      "source": [
        "gcn_msg = fn.copy_src(src='h', out='m')\n",
        "gcn_reduce = fn.sum(msg='m', out='h')"
      ],
      "execution_count": 0,
      "outputs": []
    },
    {
      "cell_type": "code",
      "metadata": {
        "id": "An-4d-KP8D_x",
        "colab_type": "code",
        "colab": {}
      },
      "source": [
        "class GCNLayer(nn.Module):\n",
        "  def __init__(self, in_feats, out_feats):\n",
        "    super(GCNLayer, self).__init__()\n",
        "    self.linear = nn.Linear(in_feats, out_feats)\n",
        "\n",
        "  def forward(self, g, feature):\n",
        "    with g.local_scope():\n",
        "      g.ndata['h'] = feature\n",
        "      g.update_all(gcn_msg, gcn_reduce)\n",
        "      h = g.ndata['h']\n",
        "      return self.linear(h)"
      ],
      "execution_count": 0,
      "outputs": []
    },
    {
      "cell_type": "code",
      "metadata": {
        "id": "9CcPXeVI8D-Z",
        "colab_type": "code",
        "colab": {}
      },
      "source": [
        "class Net(nn.Module):\n",
        "  def __init__(self):\n",
        "    super(Net, self).__init__()\n",
        "    self.layer1 = GCNLayer(20, 100)\n",
        "    self.layer2 = GCNLayer(100, 50)\n",
        "    self.layer3 = GCNLayer(50, 10)\n",
        "    self.layer4 = GCNLayer(10, 2)\n",
        "\n",
        "  def forward(self, g, features):\n",
        "    x = F.relu(self.layer1(g, features))\n",
        "    x = F.relu(self.layer2(g, x))\n",
        "    x = F.relu(self.layer3(g, x))\n",
        "    x = F.sigmoid(self.layer4(g, x))\n",
        "    return x"
      ],
      "execution_count": 0,
      "outputs": []
    },
    {
      "cell_type": "code",
      "metadata": {
        "id": "Wa9R3_oG5ZDs",
        "colab_type": "code",
        "colab": {}
      },
      "source": [
        "def load_data(file):\n",
        "  with open(f'model_ready_data/{file}', 'rb') as f:\n",
        "    C, features, targets = pickle.load(f)\n",
        "  features = th.FloatTensor(features)\n",
        "  targets = th.FloatTensor(targets)\n",
        "  g = dgl.DGLGraph()\n",
        "  g.from_networkx(C)\n",
        "  return g, features, targets"
      ],
      "execution_count": 0,
      "outputs": []
    },
    {
      "cell_type": "code",
      "metadata": {
        "id": "rrr8r-kkJjGk",
        "colab_type": "code",
        "colab": {}
      },
      "source": [
        "def evaluate(model, g, features, targets):\n",
        "  model.eval()\n",
        "  with th.no_grad():\n",
        "    "
      ],
      "execution_count": 0,
      "outputs": []
    },
    {
      "cell_type": "code",
      "metadata": {
        "id": "3TTLl9H2COOX",
        "colab_type": "code",
        "colab": {
          "base_uri": "https://localhost:8080/",
          "height": 266
        },
        "outputId": "45280db4-4845-4091-c68c-d07f4fc7a30c"
      },
      "source": [
        "net = Net()\n",
        "print(net)"
      ],
      "execution_count": 92,
      "outputs": [
        {
          "output_type": "stream",
          "text": [
            "Net(\n",
            "  (layer1): GCNLayer(\n",
            "    (linear): Linear(in_features=20, out_features=100, bias=True)\n",
            "  )\n",
            "  (layer2): GCNLayer(\n",
            "    (linear): Linear(in_features=100, out_features=50, bias=True)\n",
            "  )\n",
            "  (layer3): GCNLayer(\n",
            "    (linear): Linear(in_features=50, out_features=10, bias=True)\n",
            "  )\n",
            "  (layer4): GCNLayer(\n",
            "    (linear): Linear(in_features=10, out_features=2, bias=True)\n",
            "  )\n",
            ")\n"
          ],
          "name": "stdout"
        }
      ]
    },
    {
      "cell_type": "code",
      "metadata": {
        "id": "grsBkD0nDpBZ",
        "colab_type": "code",
        "colab": {
          "base_uri": "https://localhost:8080/",
          "height": 727
        },
        "outputId": "85dd2395-395e-4cfb-b7ee-33d56c7248a9"
      },
      "source": [
        "optimizer = th.optim.Adam(net.parameters(), lr=1e-2)\n",
        "n_epochs = 100\n",
        "for epoch in range(n_epochs):\n",
        "  loss_track = []\n",
        "  for file in os.listdir('model_ready_data'):\n",
        "    g, features, targets = load_data(file)\n",
        "    \n",
        "    net.train()\n",
        "    pred = net(g, features)\n",
        "    loss = F.mse_loss(pred, targets)\n",
        "    loss_track.append(loss)\n",
        "\n",
        "    optimizer.zero_grad()\n",
        "    loss.backward()\n",
        "    optimizer.step()\n",
        "  \n",
        "  print(f'Epoch: {epoch}, Average Loss: {sum(loss_track)/len(loss_track)}')"
      ],
      "execution_count": 0,
      "outputs": [
        {
          "output_type": "stream",
          "text": [
            "/usr/local/lib/python3.6/dist-packages/torch/nn/functional.py:1569: UserWarning: nn.functional.sigmoid is deprecated. Use torch.sigmoid instead.\n",
            "  warnings.warn(\"nn.functional.sigmoid is deprecated. Use torch.sigmoid instead.\")\n"
          ],
          "name": "stderr"
        },
        {
          "output_type": "stream",
          "text": [
            "Epoch: 0, Average Loss: 0.009138769470155239\n",
            "Epoch: 1, Average Loss: 0.004173393361270428\n",
            "Epoch: 2, Average Loss: 0.004173393361270428\n",
            "Epoch: 3, Average Loss: 0.004173393361270428\n",
            "Epoch: 4, Average Loss: 0.004173393361270428\n",
            "Epoch: 5, Average Loss: 0.004173393361270428\n",
            "Epoch: 6, Average Loss: 0.004173393361270428\n",
            "Epoch: 7, Average Loss: 0.004173393361270428\n",
            "Epoch: 8, Average Loss: 0.004173393361270428\n",
            "Epoch: 9, Average Loss: 0.004173393361270428\n",
            "Epoch: 10, Average Loss: 0.004173393361270428\n",
            "Epoch: 11, Average Loss: 0.004173393361270428\n",
            "Epoch: 12, Average Loss: 0.004173393361270428\n",
            "Epoch: 13, Average Loss: 0.004173393361270428\n",
            "Epoch: 14, Average Loss: 0.004173393361270428\n",
            "Epoch: 15, Average Loss: 0.004173393361270428\n"
          ],
          "name": "stdout"
        },
        {
          "output_type": "error",
          "ename": "KeyboardInterrupt",
          "evalue": "ignored",
          "traceback": [
            "\u001b[0;31m---------------------------------------------------------------------------\u001b[0m",
            "\u001b[0;31mKeyboardInterrupt\u001b[0m                         Traceback (most recent call last)",
            "\u001b[0;32m<ipython-input-93-221903f00ecb>\u001b[0m in \u001b[0;36m<module>\u001b[0;34m()\u001b[0m\n\u001b[1;32m      7\u001b[0m \u001b[0;34m\u001b[0m\u001b[0m\n\u001b[1;32m      8\u001b[0m     \u001b[0mnet\u001b[0m\u001b[0;34m.\u001b[0m\u001b[0mtrain\u001b[0m\u001b[0;34m(\u001b[0m\u001b[0;34m)\u001b[0m\u001b[0;34m\u001b[0m\u001b[0;34m\u001b[0m\u001b[0m\n\u001b[0;32m----> 9\u001b[0;31m     \u001b[0mpred\u001b[0m \u001b[0;34m=\u001b[0m \u001b[0mnet\u001b[0m\u001b[0;34m(\u001b[0m\u001b[0mg\u001b[0m\u001b[0;34m,\u001b[0m \u001b[0mfeatures\u001b[0m\u001b[0;34m)\u001b[0m\u001b[0;34m\u001b[0m\u001b[0;34m\u001b[0m\u001b[0m\n\u001b[0m\u001b[1;32m     10\u001b[0m     \u001b[0mloss\u001b[0m \u001b[0;34m=\u001b[0m \u001b[0mF\u001b[0m\u001b[0;34m.\u001b[0m\u001b[0mmse_loss\u001b[0m\u001b[0;34m(\u001b[0m\u001b[0mpred\u001b[0m\u001b[0;34m,\u001b[0m \u001b[0mtargets\u001b[0m\u001b[0;34m)\u001b[0m\u001b[0;34m\u001b[0m\u001b[0;34m\u001b[0m\u001b[0m\n\u001b[1;32m     11\u001b[0m     \u001b[0mloss_track\u001b[0m\u001b[0;34m.\u001b[0m\u001b[0mappend\u001b[0m\u001b[0;34m(\u001b[0m\u001b[0mloss\u001b[0m\u001b[0;34m)\u001b[0m\u001b[0;34m\u001b[0m\u001b[0;34m\u001b[0m\u001b[0m\n",
            "\u001b[0;32m/usr/local/lib/python3.6/dist-packages/torch/nn/modules/module.py\u001b[0m in \u001b[0;36m__call__\u001b[0;34m(self, *input, **kwargs)\u001b[0m\n\u001b[1;32m    548\u001b[0m             \u001b[0mresult\u001b[0m \u001b[0;34m=\u001b[0m \u001b[0mself\u001b[0m\u001b[0;34m.\u001b[0m\u001b[0m_slow_forward\u001b[0m\u001b[0;34m(\u001b[0m\u001b[0;34m*\u001b[0m\u001b[0minput\u001b[0m\u001b[0;34m,\u001b[0m \u001b[0;34m**\u001b[0m\u001b[0mkwargs\u001b[0m\u001b[0;34m)\u001b[0m\u001b[0;34m\u001b[0m\u001b[0;34m\u001b[0m\u001b[0m\n\u001b[1;32m    549\u001b[0m         \u001b[0;32melse\u001b[0m\u001b[0;34m:\u001b[0m\u001b[0;34m\u001b[0m\u001b[0;34m\u001b[0m\u001b[0m\n\u001b[0;32m--> 550\u001b[0;31m             \u001b[0mresult\u001b[0m \u001b[0;34m=\u001b[0m \u001b[0mself\u001b[0m\u001b[0;34m.\u001b[0m\u001b[0mforward\u001b[0m\u001b[0;34m(\u001b[0m\u001b[0;34m*\u001b[0m\u001b[0minput\u001b[0m\u001b[0;34m,\u001b[0m \u001b[0;34m**\u001b[0m\u001b[0mkwargs\u001b[0m\u001b[0;34m)\u001b[0m\u001b[0;34m\u001b[0m\u001b[0;34m\u001b[0m\u001b[0m\n\u001b[0m\u001b[1;32m    551\u001b[0m         \u001b[0;32mfor\u001b[0m \u001b[0mhook\u001b[0m \u001b[0;32min\u001b[0m \u001b[0mself\u001b[0m\u001b[0;34m.\u001b[0m\u001b[0m_forward_hooks\u001b[0m\u001b[0;34m.\u001b[0m\u001b[0mvalues\u001b[0m\u001b[0;34m(\u001b[0m\u001b[0;34m)\u001b[0m\u001b[0;34m:\u001b[0m\u001b[0;34m\u001b[0m\u001b[0;34m\u001b[0m\u001b[0m\n\u001b[1;32m    552\u001b[0m             \u001b[0mhook_result\u001b[0m \u001b[0;34m=\u001b[0m \u001b[0mhook\u001b[0m\u001b[0;34m(\u001b[0m\u001b[0mself\u001b[0m\u001b[0;34m,\u001b[0m \u001b[0minput\u001b[0m\u001b[0;34m,\u001b[0m \u001b[0mresult\u001b[0m\u001b[0;34m)\u001b[0m\u001b[0;34m\u001b[0m\u001b[0;34m\u001b[0m\u001b[0m\n",
            "\u001b[0;32m<ipython-input-91-595f67c8594a>\u001b[0m in \u001b[0;36mforward\u001b[0;34m(self, g, features)\u001b[0m\n\u001b[1;32m     11\u001b[0m     \u001b[0mx\u001b[0m \u001b[0;34m=\u001b[0m \u001b[0mF\u001b[0m\u001b[0;34m.\u001b[0m\u001b[0mrelu\u001b[0m\u001b[0;34m(\u001b[0m\u001b[0mself\u001b[0m\u001b[0;34m.\u001b[0m\u001b[0mlayer2\u001b[0m\u001b[0;34m(\u001b[0m\u001b[0mg\u001b[0m\u001b[0;34m,\u001b[0m \u001b[0mx\u001b[0m\u001b[0;34m)\u001b[0m\u001b[0;34m)\u001b[0m\u001b[0;34m\u001b[0m\u001b[0;34m\u001b[0m\u001b[0m\n\u001b[1;32m     12\u001b[0m     \u001b[0mx\u001b[0m \u001b[0;34m=\u001b[0m \u001b[0mF\u001b[0m\u001b[0;34m.\u001b[0m\u001b[0mrelu\u001b[0m\u001b[0;34m(\u001b[0m\u001b[0mself\u001b[0m\u001b[0;34m.\u001b[0m\u001b[0mlayer3\u001b[0m\u001b[0;34m(\u001b[0m\u001b[0mg\u001b[0m\u001b[0;34m,\u001b[0m \u001b[0mx\u001b[0m\u001b[0;34m)\u001b[0m\u001b[0;34m)\u001b[0m\u001b[0;34m\u001b[0m\u001b[0;34m\u001b[0m\u001b[0m\n\u001b[0;32m---> 13\u001b[0;31m     \u001b[0mx\u001b[0m \u001b[0;34m=\u001b[0m \u001b[0mF\u001b[0m\u001b[0;34m.\u001b[0m\u001b[0msigmoid\u001b[0m\u001b[0;34m(\u001b[0m\u001b[0mself\u001b[0m\u001b[0;34m.\u001b[0m\u001b[0mlayer4\u001b[0m\u001b[0;34m(\u001b[0m\u001b[0mg\u001b[0m\u001b[0;34m,\u001b[0m \u001b[0mx\u001b[0m\u001b[0;34m)\u001b[0m\u001b[0;34m)\u001b[0m\u001b[0;34m\u001b[0m\u001b[0;34m\u001b[0m\u001b[0m\n\u001b[0m\u001b[1;32m     14\u001b[0m     \u001b[0;32mreturn\u001b[0m \u001b[0mx\u001b[0m\u001b[0;34m\u001b[0m\u001b[0;34m\u001b[0m\u001b[0m\n",
            "\u001b[0;32m/usr/local/lib/python3.6/dist-packages/torch/nn/modules/module.py\u001b[0m in \u001b[0;36m__call__\u001b[0;34m(self, *input, **kwargs)\u001b[0m\n\u001b[1;32m    548\u001b[0m             \u001b[0mresult\u001b[0m \u001b[0;34m=\u001b[0m \u001b[0mself\u001b[0m\u001b[0;34m.\u001b[0m\u001b[0m_slow_forward\u001b[0m\u001b[0;34m(\u001b[0m\u001b[0;34m*\u001b[0m\u001b[0minput\u001b[0m\u001b[0;34m,\u001b[0m \u001b[0;34m**\u001b[0m\u001b[0mkwargs\u001b[0m\u001b[0;34m)\u001b[0m\u001b[0;34m\u001b[0m\u001b[0;34m\u001b[0m\u001b[0m\n\u001b[1;32m    549\u001b[0m         \u001b[0;32melse\u001b[0m\u001b[0;34m:\u001b[0m\u001b[0;34m\u001b[0m\u001b[0;34m\u001b[0m\u001b[0m\n\u001b[0;32m--> 550\u001b[0;31m             \u001b[0mresult\u001b[0m \u001b[0;34m=\u001b[0m \u001b[0mself\u001b[0m\u001b[0;34m.\u001b[0m\u001b[0mforward\u001b[0m\u001b[0;34m(\u001b[0m\u001b[0;34m*\u001b[0m\u001b[0minput\u001b[0m\u001b[0;34m,\u001b[0m \u001b[0;34m**\u001b[0m\u001b[0mkwargs\u001b[0m\u001b[0;34m)\u001b[0m\u001b[0;34m\u001b[0m\u001b[0;34m\u001b[0m\u001b[0m\n\u001b[0m\u001b[1;32m    551\u001b[0m         \u001b[0;32mfor\u001b[0m \u001b[0mhook\u001b[0m \u001b[0;32min\u001b[0m \u001b[0mself\u001b[0m\u001b[0;34m.\u001b[0m\u001b[0m_forward_hooks\u001b[0m\u001b[0;34m.\u001b[0m\u001b[0mvalues\u001b[0m\u001b[0;34m(\u001b[0m\u001b[0;34m)\u001b[0m\u001b[0;34m:\u001b[0m\u001b[0;34m\u001b[0m\u001b[0;34m\u001b[0m\u001b[0m\n\u001b[1;32m    552\u001b[0m             \u001b[0mhook_result\u001b[0m \u001b[0;34m=\u001b[0m \u001b[0mhook\u001b[0m\u001b[0;34m(\u001b[0m\u001b[0mself\u001b[0m\u001b[0;34m,\u001b[0m \u001b[0minput\u001b[0m\u001b[0;34m,\u001b[0m \u001b[0mresult\u001b[0m\u001b[0;34m)\u001b[0m\u001b[0;34m\u001b[0m\u001b[0;34m\u001b[0m\u001b[0m\n",
            "\u001b[0;32m<ipython-input-90-95a203aeb0d0>\u001b[0m in \u001b[0;36mforward\u001b[0;34m(self, g, feature)\u001b[0m\n\u001b[1;32m      9\u001b[0m       \u001b[0mg\u001b[0m\u001b[0;34m.\u001b[0m\u001b[0mupdate_all\u001b[0m\u001b[0;34m(\u001b[0m\u001b[0mgcn_msg\u001b[0m\u001b[0;34m,\u001b[0m \u001b[0mgcn_reduce\u001b[0m\u001b[0;34m)\u001b[0m\u001b[0;34m\u001b[0m\u001b[0;34m\u001b[0m\u001b[0m\n\u001b[1;32m     10\u001b[0m       \u001b[0mh\u001b[0m \u001b[0;34m=\u001b[0m \u001b[0mg\u001b[0m\u001b[0;34m.\u001b[0m\u001b[0mndata\u001b[0m\u001b[0;34m[\u001b[0m\u001b[0;34m'h'\u001b[0m\u001b[0;34m]\u001b[0m\u001b[0;34m\u001b[0m\u001b[0;34m\u001b[0m\u001b[0m\n\u001b[0;32m---> 11\u001b[0;31m       \u001b[0;32mreturn\u001b[0m \u001b[0mself\u001b[0m\u001b[0;34m.\u001b[0m\u001b[0mlinear\u001b[0m\u001b[0;34m(\u001b[0m\u001b[0mh\u001b[0m\u001b[0;34m)\u001b[0m\u001b[0;34m\u001b[0m\u001b[0;34m\u001b[0m\u001b[0m\n\u001b[0m",
            "\u001b[0;32m/usr/local/lib/python3.6/dist-packages/torch/nn/modules/module.py\u001b[0m in \u001b[0;36m__call__\u001b[0;34m(self, *input, **kwargs)\u001b[0m\n\u001b[1;32m    548\u001b[0m             \u001b[0mresult\u001b[0m \u001b[0;34m=\u001b[0m \u001b[0mself\u001b[0m\u001b[0;34m.\u001b[0m\u001b[0m_slow_forward\u001b[0m\u001b[0;34m(\u001b[0m\u001b[0;34m*\u001b[0m\u001b[0minput\u001b[0m\u001b[0;34m,\u001b[0m \u001b[0;34m**\u001b[0m\u001b[0mkwargs\u001b[0m\u001b[0;34m)\u001b[0m\u001b[0;34m\u001b[0m\u001b[0;34m\u001b[0m\u001b[0m\n\u001b[1;32m    549\u001b[0m         \u001b[0;32melse\u001b[0m\u001b[0;34m:\u001b[0m\u001b[0;34m\u001b[0m\u001b[0;34m\u001b[0m\u001b[0m\n\u001b[0;32m--> 550\u001b[0;31m             \u001b[0mresult\u001b[0m \u001b[0;34m=\u001b[0m \u001b[0mself\u001b[0m\u001b[0;34m.\u001b[0m\u001b[0mforward\u001b[0m\u001b[0;34m(\u001b[0m\u001b[0;34m*\u001b[0m\u001b[0minput\u001b[0m\u001b[0;34m,\u001b[0m \u001b[0;34m**\u001b[0m\u001b[0mkwargs\u001b[0m\u001b[0;34m)\u001b[0m\u001b[0;34m\u001b[0m\u001b[0;34m\u001b[0m\u001b[0m\n\u001b[0m\u001b[1;32m    551\u001b[0m         \u001b[0;32mfor\u001b[0m \u001b[0mhook\u001b[0m \u001b[0;32min\u001b[0m \u001b[0mself\u001b[0m\u001b[0;34m.\u001b[0m\u001b[0m_forward_hooks\u001b[0m\u001b[0;34m.\u001b[0m\u001b[0mvalues\u001b[0m\u001b[0;34m(\u001b[0m\u001b[0;34m)\u001b[0m\u001b[0;34m:\u001b[0m\u001b[0;34m\u001b[0m\u001b[0;34m\u001b[0m\u001b[0m\n\u001b[1;32m    552\u001b[0m             \u001b[0mhook_result\u001b[0m \u001b[0;34m=\u001b[0m \u001b[0mhook\u001b[0m\u001b[0;34m(\u001b[0m\u001b[0mself\u001b[0m\u001b[0;34m,\u001b[0m \u001b[0minput\u001b[0m\u001b[0;34m,\u001b[0m \u001b[0mresult\u001b[0m\u001b[0;34m)\u001b[0m\u001b[0;34m\u001b[0m\u001b[0;34m\u001b[0m\u001b[0m\n",
            "\u001b[0;32m/usr/local/lib/python3.6/dist-packages/torch/nn/modules/linear.py\u001b[0m in \u001b[0;36mforward\u001b[0;34m(self, input)\u001b[0m\n\u001b[1;32m     85\u001b[0m \u001b[0;34m\u001b[0m\u001b[0m\n\u001b[1;32m     86\u001b[0m     \u001b[0;32mdef\u001b[0m \u001b[0mforward\u001b[0m\u001b[0;34m(\u001b[0m\u001b[0mself\u001b[0m\u001b[0;34m,\u001b[0m \u001b[0minput\u001b[0m\u001b[0;34m)\u001b[0m\u001b[0;34m:\u001b[0m\u001b[0;34m\u001b[0m\u001b[0;34m\u001b[0m\u001b[0m\n\u001b[0;32m---> 87\u001b[0;31m         \u001b[0;32mreturn\u001b[0m \u001b[0mF\u001b[0m\u001b[0;34m.\u001b[0m\u001b[0mlinear\u001b[0m\u001b[0;34m(\u001b[0m\u001b[0minput\u001b[0m\u001b[0;34m,\u001b[0m \u001b[0mself\u001b[0m\u001b[0;34m.\u001b[0m\u001b[0mweight\u001b[0m\u001b[0;34m,\u001b[0m \u001b[0mself\u001b[0m\u001b[0;34m.\u001b[0m\u001b[0mbias\u001b[0m\u001b[0;34m)\u001b[0m\u001b[0;34m\u001b[0m\u001b[0;34m\u001b[0m\u001b[0m\n\u001b[0m\u001b[1;32m     88\u001b[0m \u001b[0;34m\u001b[0m\u001b[0m\n\u001b[1;32m     89\u001b[0m     \u001b[0;32mdef\u001b[0m \u001b[0mextra_repr\u001b[0m\u001b[0;34m(\u001b[0m\u001b[0mself\u001b[0m\u001b[0;34m)\u001b[0m\u001b[0;34m:\u001b[0m\u001b[0;34m\u001b[0m\u001b[0;34m\u001b[0m\u001b[0m\n",
            "\u001b[0;31mKeyboardInterrupt\u001b[0m: "
          ]
        }
      ]
    },
    {
      "cell_type": "code",
      "metadata": {
        "id": "B6JyVu0LDvvP",
        "colab_type": "code",
        "colab": {}
      },
      "source": [
        "g, features, targets = load_data('2020-05-08.pkl')"
      ],
      "execution_count": 0,
      "outputs": []
    },
    {
      "cell_type": "code",
      "metadata": {
        "id": "72lk1u8SF5VM",
        "colab_type": "code",
        "colab": {
          "base_uri": "https://localhost:8080/",
          "height": 1000
        },
        "outputId": "6a8d579a-e7c4-44a2-ca5e-ed7469d45d6e"
      },
      "source": [
        "net(g, features) - targets"
      ],
      "execution_count": 89,
      "outputs": [
        {
          "output_type": "execute_result",
          "data": {
            "text/plain": [
              "tensor([[-2.6079e-02, -2.1781e-02],\n",
              "        [ 1.1839e-03, -7.5676e-03],\n",
              "        [-1.6131e-02, -1.1569e-02],\n",
              "        [-2.9533e-02, -2.6887e-02],\n",
              "        [-9.0157e-03, -1.0540e-02],\n",
              "        [-4.6816e-03, -1.2026e-02],\n",
              "        [-1.9071e-01, -1.0676e-01],\n",
              "        [-5.4656e-02, -4.3768e-02],\n",
              "        [ 5.1554e-02,  2.3462e-02],\n",
              "        [ 1.6670e-01,  1.5868e-01],\n",
              "        [ 4.0324e-03, -1.5991e-04],\n",
              "        [-1.1631e-01, -7.0784e-02],\n",
              "        [-9.5073e-02, -6.0534e-02],\n",
              "        [-4.2670e-03, -9.7396e-03],\n",
              "        [-1.9299e-01, -1.0412e-01],\n",
              "        [-5.0320e-02, -4.5763e-02],\n",
              "        [-1.8944e-02, -3.6913e-03],\n",
              "        [-1.7853e-02, -1.3588e-02],\n",
              "        [ 1.6928e-02,  1.3458e-02],\n",
              "        [-9.1060e-02, -9.2047e-02],\n",
              "        [ 7.7990e-02,  6.6358e-02],\n",
              "        [ 1.0733e-01,  9.3269e-02],\n",
              "        [ 3.3014e-02,  5.0348e-02],\n",
              "        [ 1.7158e-02,  4.4675e-02],\n",
              "        [ 2.3935e-02, -2.0684e-02],\n",
              "        [ 9.1067e-02,  8.5943e-02],\n",
              "        [-2.5187e-02, -2.2772e-02],\n",
              "        [-2.7133e-02, -2.5591e-02],\n",
              "        [ 9.3872e-04, -7.7962e-03],\n",
              "        [-2.1337e-02, -1.0616e-02],\n",
              "        [-1.5592e-02, -1.8389e-02],\n",
              "        [ 8.1786e-02,  6.8758e-02],\n",
              "        [ 1.7409e-01,  1.6010e-01],\n",
              "        [-2.3448e-01, -1.8276e-01],\n",
              "        [-1.1818e-02, -1.4084e-02],\n",
              "        [-3.6335e-01, -4.0369e-01],\n",
              "        [ 8.1359e-02,  6.8644e-02],\n",
              "        [-4.0065e-02, -2.7382e-02],\n",
              "        [ 8.8166e-03,  1.8356e-03],\n",
              "        [ 2.3098e-03, -7.1865e-03],\n",
              "        [-7.2589e-04, -8.9394e-03],\n",
              "        [ 5.0573e-02,  5.5226e-02],\n",
              "        [-1.1065e-02, -1.7323e-02],\n",
              "        [ 8.3001e-02,  6.6092e-02],\n",
              "        [-6.9606e-03, -1.1912e-02],\n",
              "        [ 1.6371e-03,  1.5797e-02],\n",
              "        [ 2.2432e-03, -7.1865e-03],\n",
              "        [ 1.4738e-01,  1.3107e-01],\n",
              "        [ 1.3991e-01,  1.3955e-01],\n",
              "        [ 1.1483e-02,  2.8263e-03],\n",
              "        [-1.9972e-02, -1.9380e-02],\n",
              "        [-7.1937e-03, -8.3678e-03],\n",
              "        [-4.1382e-02, -1.6408e-02],\n",
              "        [-1.1040e-01, -4.6245e-02],\n",
              "        [-1.5589e-02, -9.5109e-03],\n",
              "        [ 2.1757e-01,  1.9823e-01],\n",
              "        [-6.3582e-02, -3.6499e-02],\n",
              "        [-4.7275e-02, -4.1672e-02],\n",
              "        [ 1.1741e-01,  1.0413e-01],\n",
              "        [-2.6700e-02, -2.1819e-02],\n",
              "        [ 3.7578e-04, -7.4532e-03],\n",
              "        [ 2.2916e-03, -7.1865e-03]], grad_fn=<SubBackward0>)"
            ]
          },
          "metadata": {
            "tags": []
          },
          "execution_count": 89
        }
      ]
    },
    {
      "cell_type": "code",
      "metadata": {
        "id": "TO9orKogK2_A",
        "colab_type": "code",
        "colab": {
          "base_uri": "https://localhost:8080/",
          "height": 1000
        },
        "outputId": "24fb8fb1-9454-4970-bc38-44777f33b5d4"
      },
      "source": [
        "targets"
      ],
      "execution_count": 88,
      "outputs": [
        {
          "output_type": "execute_result",
          "data": {
            "text/plain": [
              "tensor([[2.8404e-02, 1.4594e-02],\n",
              "        [1.1410e-03, 3.8105e-04],\n",
              "        [1.8456e-02, 4.3821e-03],\n",
              "        [3.1858e-02, 1.9700e-02],\n",
              "        [1.1341e-02, 3.3533e-03],\n",
              "        [7.0065e-03, 4.8394e-03],\n",
              "        [1.9303e-01, 9.9569e-02],\n",
              "        [5.6981e-02, 3.6581e-02],\n",
              "        [9.8094e-02, 1.0951e-01],\n",
              "        [1.8495e-02, 8.1165e-03],\n",
              "        [1.7854e-02, 1.1584e-02],\n",
              "        [1.1864e-01, 6.3598e-02],\n",
              "        [9.7398e-02, 5.3348e-02],\n",
              "        [6.5919e-03, 2.5531e-03],\n",
              "        [2.2324e-01, 1.2350e-01],\n",
              "        [7.0053e-02, 5.5139e-02],\n",
              "        [3.4675e-02, 9.2596e-03],\n",
              "        [2.0178e-02, 6.4017e-03],\n",
              "        [1.9031e-02, 1.1355e-02],\n",
              "        [9.3385e-02, 8.4861e-02],\n",
              "        [4.1585e-03, 2.4006e-03],\n",
              "        [8.5955e-04, 2.6674e-04],\n",
              "        [9.2265e-02, 5.9444e-02],\n",
              "        [2.2800e-01, 1.7917e-01],\n",
              "        [1.4039e-01, 1.6763e-01],\n",
              "        [3.0532e-02, 2.0348e-02],\n",
              "        [2.7512e-02, 1.5585e-02],\n",
              "        [2.9458e-02, 1.8405e-02],\n",
              "        [1.3862e-03, 6.0969e-04],\n",
              "        [2.3662e-02, 3.4295e-03],\n",
              "        [1.7917e-02, 1.1203e-02],\n",
              "        [3.6319e-04, 0.0000e+00],\n",
              "        [8.9193e-03, 4.6108e-03],\n",
              "        [4.1113e-01, 3.4142e-01],\n",
              "        [1.4143e-02, 6.8971e-03],\n",
              "        [1.0000e+00, 1.0000e+00],\n",
              "        [7.8993e-04, 1.1432e-04],\n",
              "        [4.2390e-02, 2.0196e-02],\n",
              "        [4.3129e-03, 1.2575e-03],\n",
              "        [1.5133e-05, 0.0000e+00],\n",
              "        [3.0508e-03, 1.7528e-03],\n",
              "        [6.9660e-02, 4.9766e-02],\n",
              "        [1.3390e-02, 1.0136e-02],\n",
              "        [6.3031e-02, 6.3445e-02],\n",
              "        [9.2855e-03, 4.7251e-03],\n",
              "        [1.7364e-01, 1.4156e-01],\n",
              "        [8.1717e-05, 0.0000e+00],\n",
              "        [1.0944e-01, 1.0388e-01],\n",
              "        [3.2623e-02, 1.5204e-02],\n",
              "        [1.6465e-03, 2.6674e-04],\n",
              "        [2.2297e-02, 1.2194e-02],\n",
              "        [9.5186e-03, 1.1813e-03],\n",
              "        [4.3707e-02, 9.2215e-03],\n",
              "        [1.1273e-01, 3.9058e-02],\n",
              "        [1.7914e-02, 2.3244e-03],\n",
              "        [2.7814e-03, 2.0196e-03],\n",
              "        [6.7620e-02, 3.0942e-02],\n",
              "        [4.9599e-02, 3.4485e-02],\n",
              "        [4.0042e-03, 1.9815e-03],\n",
              "        [2.9025e-02, 1.4632e-02],\n",
              "        [1.9491e-03, 2.6674e-04],\n",
              "        [3.3292e-05, 0.0000e+00]])"
            ]
          },
          "metadata": {
            "tags": []
          },
          "execution_count": 88
        }
      ]
    }
  ]
}