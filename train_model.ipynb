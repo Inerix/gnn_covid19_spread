{
 "cells": [
  {
   "cell_type": "code",
   "execution_count": 1,
   "metadata": {
    "colab": {},
    "colab_type": "code",
    "id": "uh6Umdn744z0"
   },
   "outputs": [],
   "source": [
    "%matplotlib inline"
   ]
  },
  {
   "cell_type": "code",
   "execution_count": 2,
   "metadata": {
    "colab": {},
    "colab_type": "code",
    "id": "apgHTBoX5LP9"
   },
   "outputs": [],
   "source": [
    "import pandas as pd\n",
    "import numpy as np\n",
    "import networkx as nx\n",
    "import matplotlib.pyplot as plt\n",
    "import datetime as dt\n",
    "import pickle\n",
    "import os"
   ]
  },
  {
   "cell_type": "code",
   "execution_count": 3,
   "metadata": {
    "colab": {
     "base_uri": "https://localhost:8080/",
     "height": 286
    },
    "colab_type": "code",
    "id": "tbkIn66B5Tq3",
    "outputId": "823fed93-3d98-4e8e-ed8f-22e35c17a3d9"
   },
   "outputs": [],
   "source": [
    "#!pip install dgl"
   ]
  },
  {
   "cell_type": "code",
   "execution_count": 4,
   "metadata": {
    "colab": {
     "base_uri": "https://localhost:8080/",
     "height": 90
    },
    "colab_type": "code",
    "id": "1KvsPNX15M-Y",
    "outputId": "1ae81e16-886d-4c90-d21e-d487a453e459"
   },
   "outputs": [
    {
     "name": "stderr",
     "output_type": "stream",
     "text": [
      "Using backend: pytorch\n"
     ]
    }
   ],
   "source": [
    "import dgl\n",
    "import dgl.function as fn\n",
    "import torch as th\n",
    "import torch.nn as nn\n",
    "import torch.nn.functional as F"
   ]
  },
  {
   "cell_type": "code",
   "execution_count": 5,
   "metadata": {
    "colab": {},
    "colab_type": "code",
    "id": "hDHYIZVVGIoZ"
   },
   "outputs": [],
   "source": [
    "gcn_msg = fn.copy_src(src='h', out='m')\n",
    "gcn_reduce = fn.sum(msg='m', out='h')"
   ]
  },
  {
   "cell_type": "code",
   "execution_count": 6,
   "metadata": {
    "colab": {},
    "colab_type": "code",
    "id": "An-4d-KP8D_x"
   },
   "outputs": [],
   "source": [
    "class GCNLSTM(nn.Module):\n",
    "  def __init__(self, n_feats, seq_len):\n",
    "    super(GCNLSTM, self).__init__()\n",
    "    self.n_feats = n_feats\n",
    "    self.seq_len = seq_len\n",
    "    self.n_hidden = 10 # number of hidden states for LSTM cell\n",
    "    self.n_layers = 3 # number of stacked LSTM layers\n",
    "\n",
    "    self.lstm = nn.LSTM(input_size=n_feats,\n",
    "                        hidden_size=self.n_hidden,\n",
    "                        num_layers=self.n_layers,\n",
    "                        batch_first=True,\n",
    "                        dropout=0.3)\n",
    "    \n",
    "  def forward(self, g, feature):\n",
    "    with g.local_scope():\n",
    "      g.ndata['h'] = feature\n",
    "      g.update_all(gcn_msg, gcn_reduce)\n",
    "      h = g.ndata['h']\n",
    "      return self.lstm(h)[0]"
   ]
  },
  {
   "cell_type": "code",
   "execution_count": 7,
   "metadata": {
    "colab": {},
    "colab_type": "code",
    "id": "loZskTG4cnKm"
   },
   "outputs": [],
   "source": [
    "class GCNLinear(nn.Module):\n",
    "  def __init__(self, in_feats, out_feats):\n",
    "    super(GCNLinear, self).__init__()\n",
    "    self.linear = nn.Linear(in_feats, out_feats)\n",
    "\n",
    "  def forward(self, g, feature):\n",
    "    with g.local_scope():\n",
    "      g.ndata['h'] = feature\n",
    "      g.update_all(gcn_msg, gcn_reduce)\n",
    "      h = g.ndata['h']\n",
    "      return self.linear(h)\n"
   ]
  },
  {
   "cell_type": "code",
   "execution_count": 8,
   "metadata": {
    "colab": {},
    "colab_type": "code",
    "id": "9CcPXeVI8D-Z"
   },
   "outputs": [],
   "source": [
    "class Net(nn.Module):\n",
    "  def __init__(self):\n",
    "    super(Net, self).__init__()\n",
    "\n",
    "    self.layer1 = GCNLSTM(2, 10)\n",
    "    self.dropout1 = nn.Dropout(0.3)\n",
    "    self.layer2 = GCNLinear(100, 50)\n",
    "    self.layer3 = GCNLinear(50, 2)\n",
    "\n",
    "  def forward(self, g, features):\n",
    "    batch_size, seq_len, n_feats = features.size()\n",
    "\n",
    "    x = self.layer1(g, features)\n",
    "    x = x.contiguous().view(batch_size, -1) # flatten\n",
    "    x = F.relu(self.layer2(g, x))\n",
    "    x = F.sigmoid(self.layer3(g, x))\n",
    "    return x"
   ]
  },
  {
   "cell_type": "code",
   "execution_count": 9,
   "metadata": {
    "colab": {},
    "colab_type": "code",
    "id": "Wa9R3_oG5ZDs"
   },
   "outputs": [],
   "source": [
    "def load_data(file):\n",
    "  with open(f'model_ready_data/{file}', 'rb') as f:\n",
    "    C, features, targets = pickle.load(f)\n",
    "  features = th.FloatTensor(features)\n",
    "  targets = th.FloatTensor(targets)\n",
    "  g = dgl.DGLGraph()\n",
    "  g.from_networkx(C)\n",
    "  return g, features, targets"
   ]
  },
  {
   "cell_type": "code",
   "execution_count": 10,
   "metadata": {
    "colab": {
     "base_uri": "https://localhost:8080/",
     "height": 230
    },
    "colab_type": "code",
    "id": "3TTLl9H2COOX",
    "outputId": "19e38297-d907-4ee4-f6e5-a589b531b0a4"
   },
   "outputs": [
    {
     "name": "stdout",
     "output_type": "stream",
     "text": [
      "Net(\n",
      "  (layer1): GCNLSTM(\n",
      "    (lstm): LSTM(2, 10, num_layers=3, batch_first=True, dropout=0.3)\n",
      "  )\n",
      "  (dropout1): Dropout(p=0.3, inplace=False)\n",
      "  (layer2): GCNLinear(\n",
      "    (linear): Linear(in_features=100, out_features=50, bias=True)\n",
      "  )\n",
      "  (layer3): GCNLinear(\n",
      "    (linear): Linear(in_features=50, out_features=2, bias=True)\n",
      "  )\n",
      ")\n"
     ]
    }
   ],
   "source": [
    "th.manual_seed(0)\n",
    "net = Net()\n",
    "print(net)"
   ]
  },
  {
   "cell_type": "code",
   "execution_count": 11,
   "metadata": {
    "colab": {},
    "colab_type": "code",
    "id": "WuPcW4qtOoIU"
   },
   "outputs": [],
   "source": [
    "train_files = []\n",
    "test_files = []\n",
    "for file in os.listdir('model_ready_data'):\n",
    "  date = dt.datetime.strptime(file[:-4], '%Y-%m-%d')\n",
    "  if date < dt.datetime.strptime('2020-05-01', '%Y-%m-%d'):\n",
    "    train_files.append(file)\n",
    "  else:\n",
    "    test_files.append(file)"
   ]
  },
  {
   "cell_type": "code",
   "execution_count": 12,
   "metadata": {
    "colab": {
     "base_uri": "https://localhost:8080/",
     "height": 250
    },
    "colab_type": "code",
    "id": "grsBkD0nDpBZ",
    "outputId": "5126fb83-8a0c-4aa7-c8de-d3108932048e"
   },
   "outputs": [
    {
     "name": "stderr",
     "output_type": "stream",
     "text": [
      "/usr/local/lib/python3.7/site-packages/torch/nn/functional.py:1569: UserWarning: nn.functional.sigmoid is deprecated. Use torch.sigmoid instead.\n",
      "  warnings.warn(\"nn.functional.sigmoid is deprecated. Use torch.sigmoid instead.\")\n"
     ]
    },
    {
     "name": "stdout",
     "output_type": "stream",
     "text": [
      "Epoch: 0, Train Loss: 0.0871548162566291, Test Loss: 0.6668445244431496\n",
      "Epoch: 50, Train Loss: 0.01029685579274605, Test Loss: 0.03253657277673483\n",
      "Epoch: 100, Train Loss: 0.008854105500021268, Test Loss: 0.03922420018352568\n",
      "Epoch: 150, Train Loss: 0.007607648318412311, Test Loss: 0.03192928992211819\n",
      "Epoch: 200, Train Loss: 0.007421973053893775, Test Loss: 0.03347874223254621\n",
      "Epoch: 250, Train Loss: 0.006833612190026864, Test Loss: 0.03318666503764689\n",
      "Epoch: 300, Train Loss: 0.006337534298625158, Test Loss: 0.024563803803175688\n",
      "Epoch: 350, Train Loss: 0.005948260221669067, Test Loss: 0.03047998365946114\n",
      "Epoch: 400, Train Loss: 0.005805320330942997, Test Loss: 0.02591341349761933\n",
      "Epoch: 450, Train Loss: 0.006168020547631562, Test Loss: 0.027791930246166885\n"
     ]
    }
   ],
   "source": [
    "optimizer = th.optim.Adam(net.parameters(), lr=1e-3)\n",
    "n_epochs = 500\n",
    "train_loss = []\n",
    "test_loss = []\n",
    "for epoch in range(n_epochs):\n",
    "  train_loss_epoch = []\n",
    "  test_loss_epoch = []\n",
    "  for file in train_files:\n",
    "    g, features, targets = load_data(file)\n",
    "    \n",
    "    net.train()\n",
    "    pred = net(g, features)\n",
    "    loss = F.mse_loss(pred, targets)\n",
    "    train_loss_epoch.append(loss.item())\n",
    "\n",
    "    optimizer.zero_grad()\n",
    "    loss.backward()\n",
    "    optimizer.step()\n",
    "  \n",
    "  for file in test_files:\n",
    "    g, features, targets = load_data(file)\n",
    "    pred = net(g, features)\n",
    "    loss = F.mse_loss(pred, targets)\n",
    "    test_loss_epoch.append(loss.item())\n",
    "\n",
    "  train_loss.append(np.mean(train_loss_epoch))\n",
    "  test_loss.append(np.mean(test_loss_epoch))\n",
    "\n",
    "  if epoch % 50 == 0:\n",
    "    print(f'Epoch: {epoch}, Train Loss: {train_loss[epoch]}, Test Loss: {test_loss[epoch]}')"
   ]
  },
  {
   "cell_type": "code",
   "execution_count": 13,
   "metadata": {
    "colab": {
     "base_uri": "https://localhost:8080/",
     "height": 281
    },
    "colab_type": "code",
    "id": "B6JyVu0LDvvP",
    "outputId": "64beb3f5-b6d3-4252-9ac3-d57e2f5dcafe"
   },
   "outputs": [
    {
     "data": {
      "image/png": "[encoded data removed]",
      "text/plain": [
       "<Figure size 432x288 with 1 Axes>"
      ]
     },
     "metadata": {
      "needs_background": "light"
     },
     "output_type": "display_data"
    }
   ],
   "source": [
    "plt.plot(train_loss)\n",
    "plt.plot(test_loss)\n",
    "plt.title('Loss vs. Epochs')\n",
    "plt.ylim((0,0.6))\n",
    "plt.show()"
   ]
  },
  {
   "cell_type": "code",
   "execution_count": 14,
   "metadata": {
    "colab": {},
    "colab_type": "code",
    "id": "TO9orKogK2_A"
   },
   "outputs": [],
   "source": [
    "# forecast\n",
    "def one_day_forecast(g, features):\n",
    "  pred = net(g, features)\n",
    "  new_features = th.zeros(features.size())\n",
    "  new_features[:,0:9,:] = features[:,1:10,:]\n",
    "  new_features[:,9,:] = pred\n",
    "  return pred, new_features\n",
    "\n",
    "def several_day_forecast(g, features, n_days):\n",
    "  new_features = features\n",
    "  for i in range(n_days):\n",
    "    pred, new_features = one_day_forecast(g, new_features)\n",
    "  return pred, new_features"
   ]
  },
  {
   "cell_type": "code",
   "execution_count": 15,
   "metadata": {
    "colab": {
     "base_uri": "https://localhost:8080/",
     "height": 72
    },
    "colab_type": "code",
    "id": "q683nfbEdk65",
    "outputId": "504eb005-0beb-4cb3-f723-13b8e9876f0d"
   },
   "outputs": [
    {
     "name": "stderr",
     "output_type": "stream",
     "text": [
      "/usr/local/lib/python3.7/site-packages/torch/nn/functional.py:1569: UserWarning: nn.functional.sigmoid is deprecated. Use torch.sigmoid instead.\n",
      "  warnings.warn(\"nn.functional.sigmoid is deprecated. Use torch.sigmoid instead.\")\n"
     ]
    }
   ],
   "source": [
    "g, features, targets = load_data('2020-05-01.pkl')\n",
    "pred, new_features = several_day_forecast(g, features, 7)"
   ]
  },
  {
   "cell_type": "code",
   "execution_count": 16,
   "metadata": {
    "colab": {},
    "colab_type": "code",
    "id": "7RiR5pCZndIe"
   },
   "outputs": [],
   "source": [
    "g, true_features, targets = load_data('2020-05-08.pkl')"
   ]
  },
  {
   "cell_type": "code",
   "execution_count": 17,
   "metadata": {
    "colab": {
     "base_uri": "https://localhost:8080/",
     "height": 281
    },
    "colab_type": "code",
    "id": "TQHuYPcGqium",
    "outputId": "21488ed7-7134-4e79-c437-c8c096a785f1"
   },
   "outputs": [
    {
     "data": {
      "image/png": "[encoded data removed]",
      "text/plain": [
       "<Figure size 432x288 with 1 Axes>"
      ]
     },
     "metadata": {
      "needs_background": "light"
     },
     "output_type": "display_data"
    }
   ],
   "source": [
    "# look at illinois as example (14 is index of illinois)\n",
    "plt.plot(new_features[14,:,0].detach().numpy())\n",
    "plt.plot(true_features[14,:,0].detach().numpy())\n",
    "plt.title('Illinois Confirmed Cases')\n",
    "plt.ylim((0.6,1))\n",
    "plt.show()"
   ]
  },
  {
   "cell_type": "code",
   "execution_count": 21,
   "metadata": {},
   "outputs": [
    {
     "data": {
      "text/plain": [
       "0.03538907505571842"
      ]
     },
     "execution_count": 21,
     "metadata": {},
     "output_type": "execute_result"
    }
   ],
   "source": [
    "sqrt(test_loss[499])"
   ]
  },
  {
   "cell_type": "code",
   "execution_count": null,
   "metadata": {},
   "outputs": [],
   "source": []
  }
 ],
 "metadata": {
  "colab": {
   "name": "train_model.ipynb",
   "provenance": []
  },
  "kernelspec": {
   "display_name": "Python 3",
   "language": "python",
   "name": "python3"
  },
  "language_info": {
   "codemirror_mode": {
    "name": "ipython",
    "version": 3
   },
   "file_extension": ".py",
   "mimetype": "text/x-python",
   "name": "python",
   "nbconvert_exporter": "python",
   "pygments_lexer": "ipython3",
   "version": "3.7.7"
  }
 },
 "nbformat": 4,
 "nbformat_minor": 1
}
