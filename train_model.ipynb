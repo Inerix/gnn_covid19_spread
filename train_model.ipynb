{
  "nbformat": 4,
  "nbformat_minor": 0,
  "metadata": {
    "colab": {
      "name": "train_model.ipynb",
      "provenance": []
    },
    "kernelspec": {
      "name": "python3",
      "display_name": "Python 3"
    }
  },
  "cells": [
    {
      "cell_type": "code",
      "metadata": {
        "id": "uh6Umdn744z0",
        "colab_type": "code",
        "colab": {}
      },
      "source": [
        "%matplotlib inline"
      ],
      "execution_count": 0,
      "outputs": []
    },
    {
      "cell_type": "code",
      "metadata": {
        "id": "apgHTBoX5LP9",
        "colab_type": "code",
        "colab": {}
      },
      "source": [
        "import pandas as pd\n",
        "import numpy as np\n",
        "import networkx as nx\n",
        "import matplotlib.pyplot as plt\n",
        "import itertools\n",
        "import datetime as dt\n",
        "import pickle\n",
        "import os"
      ],
      "execution_count": 0,
      "outputs": []
    },
    {
      "cell_type": "code",
      "metadata": {
        "id": "tbkIn66B5Tq3",
        "colab_type": "code",
        "colab": {
          "base_uri": "https://localhost:8080/",
          "height": 195
        },
        "outputId": "1ed3d075-745b-4a77-8338-cd8e4f3b46d6"
      },
      "source": [
        "!pip install dgl"
      ],
      "execution_count": 58,
      "outputs": [
        {
          "output_type": "stream",
          "text": [
            "Requirement already satisfied: dgl in /usr/local/lib/python3.6/dist-packages (0.4.3.post2)\n",
            "Requirement already satisfied: numpy>=1.14.0 in /usr/local/lib/python3.6/dist-packages (from dgl) (1.18.4)\n",
            "Requirement already satisfied: scipy>=1.1.0 in /usr/local/lib/python3.6/dist-packages (from dgl) (1.4.1)\n",
            "Requirement already satisfied: requests>=2.19.0 in /usr/local/lib/python3.6/dist-packages (from dgl) (2.23.0)\n",
            "Requirement already satisfied: networkx>=2.1 in /usr/local/lib/python3.6/dist-packages (from dgl) (2.4)\n",
            "Requirement already satisfied: idna<3,>=2.5 in /usr/local/lib/python3.6/dist-packages (from requests>=2.19.0->dgl) (2.9)\n",
            "Requirement already satisfied: chardet<4,>=3.0.2 in /usr/local/lib/python3.6/dist-packages (from requests>=2.19.0->dgl) (3.0.4)\n",
            "Requirement already satisfied: urllib3!=1.25.0,!=1.25.1,<1.26,>=1.21.1 in /usr/local/lib/python3.6/dist-packages (from requests>=2.19.0->dgl) (1.24.3)\n",
            "Requirement already satisfied: certifi>=2017.4.17 in /usr/local/lib/python3.6/dist-packages (from requests>=2.19.0->dgl) (2020.4.5.1)\n",
            "Requirement already satisfied: decorator>=4.3.0 in /usr/local/lib/python3.6/dist-packages (from networkx>=2.1->dgl) (4.4.2)\n"
          ],
          "name": "stdout"
        }
      ]
    },
    {
      "cell_type": "code",
      "metadata": {
        "id": "1KvsPNX15M-Y",
        "colab_type": "code",
        "colab": {}
      },
      "source": [
        "import dgl\n",
        "import dgl.function as fn\n",
        "import torch as th\n",
        "import torch.nn as nn\n",
        "import torch.nn.functional as F"
      ],
      "execution_count": 0,
      "outputs": []
    },
    {
      "cell_type": "code",
      "metadata": {
        "id": "hDHYIZVVGIoZ",
        "colab_type": "code",
        "colab": {}
      },
      "source": [
        "gcn_msg = fn.copy_src(src='h', out='m')\n",
        "gcn_reduce = fn.sum(msg='m', out='h')"
      ],
      "execution_count": 0,
      "outputs": []
    },
    {
      "cell_type": "code",
      "metadata": {
        "id": "An-4d-KP8D_x",
        "colab_type": "code",
        "colab": {}
      },
      "source": [
        "class GCNLayer(nn.Module):\n",
        "  def __init__(self, in_feats, out_feats):\n",
        "    super(GCNLayer, self).__init__()\n",
        "    self.linear = nn.Linear(in_feats, out_feats)\n",
        "\n",
        "  def forward(self, g, feature):\n",
        "    with g.local_scope():\n",
        "      g.ndata['h'] = feature\n",
        "      g.update_all(gcn_msg, gcn_reduce)\n",
        "      h = g.ndata['h']\n",
        "      return self.linear(h)"
      ],
      "execution_count": 0,
      "outputs": []
    },
    {
      "cell_type": "code",
      "metadata": {
        "id": "9CcPXeVI8D-Z",
        "colab_type": "code",
        "colab": {}
      },
      "source": [
        "class Net(nn.Module):\n",
        "  def __init__(self):\n",
        "    super(Net, self).__init__()\n",
        "    self.layer1 = GCNLayer(20, 15)\n",
        "    self.layer2 = GCNLayer(15, 10)\n",
        "    self.layer3 = GCNLayer(10, 2)\n",
        "\n",
        "  def forward(self, g, features):\n",
        "    x = F.relu(self.layer1(g, features))\n",
        "    x = F.relu(self.layer2(g, x))\n",
        "    x = F.sigmoid(self.layer3(g, x))\n",
        "    return x"
      ],
      "execution_count": 0,
      "outputs": []
    },
    {
      "cell_type": "code",
      "metadata": {
        "id": "Wa9R3_oG5ZDs",
        "colab_type": "code",
        "colab": {}
      },
      "source": [
        "def load_data(file):\n",
        "  with open(f'model_ready_data/{file}', 'rb') as f:\n",
        "    C, features, targets = pickle.load(f)\n",
        "  features = th.FloatTensor(features)\n",
        "  targets = th.FloatTensor(targets)\n",
        "  g = dgl.DGLGraph()\n",
        "  g.from_networkx(C)\n",
        "  return g, features, targets"
      ],
      "execution_count": 0,
      "outputs": []
    },
    {
      "cell_type": "code",
      "metadata": {
        "id": "rrr8r-kkJjGk",
        "colab_type": "code",
        "colab": {}
      },
      "source": [
        "def forecast(net, start_date='2020-05-01', end_date='2020-05-08'):\n",
        "  g, features, targets = load_data(start_date+'.pkl')\n",
        "  date = dt.datetime.strptime(start_date, '%Y-%m-%d')\n",
        "  end_date = dt.datetime.strptime(end_date, '%Y-%m-%d')\n",
        "  while date < end_date:\n",
        "    pred = net(g, features)\n",
        "    features[:,0:9] = features[:,1:10]\n",
        "    features[:9] = pred[:,0]\n",
        "    features[:,10:19] = features[:,11:20]\n",
        "    features[:,19] = pred[:,1]\n",
        "\n",
        "\n"
      ],
      "execution_count": 0,
      "outputs": []
    },
    {
      "cell_type": "code",
      "metadata": {
        "id": "3TTLl9H2COOX",
        "colab_type": "code",
        "colab": {
          "base_uri": "https://localhost:8080/",
          "height": 212
        },
        "outputId": "6a99ab2d-084d-47a7-a992-d69e00e2ab1d"
      },
      "source": [
        "net = Net()\n",
        "print(net)"
      ],
      "execution_count": 129,
      "outputs": [
        {
          "output_type": "stream",
          "text": [
            "Net(\n",
            "  (layer1): GCNLayer(\n",
            "    (linear): Linear(in_features=20, out_features=15, bias=True)\n",
            "  )\n",
            "  (layer2): GCNLayer(\n",
            "    (linear): Linear(in_features=15, out_features=10, bias=True)\n",
            "  )\n",
            "  (layer3): GCNLayer(\n",
            "    (linear): Linear(in_features=10, out_features=2, bias=True)\n",
            "  )\n",
            ")\n"
          ],
          "name": "stdout"
        }
      ]
    },
    {
      "cell_type": "code",
      "metadata": {
        "id": "WuPcW4qtOoIU",
        "colab_type": "code",
        "colab": {}
      },
      "source": [
        "train_files = []\n",
        "test_files = []\n",
        "for file in os.listdir('model_ready_data'):\n",
        "  date = dt.datetime.strptime(file[:-4], '%Y-%m-%d')\n",
        "  if date < dt.datetime.strptime('2020-05-01', '%Y-%m-%d'):\n",
        "    train_files.append(file)\n",
        "  else:\n",
        "    test_files.append(file)"
      ],
      "execution_count": 0,
      "outputs": []
    },
    {
      "cell_type": "code",
      "metadata": {
        "id": "grsBkD0nDpBZ",
        "colab_type": "code",
        "colab": {
          "base_uri": "https://localhost:8080/",
          "height": 230
        },
        "outputId": "d22b7c51-b556-4d72-c3ae-9c8449bb6dd2"
      },
      "source": [
        "optimizer = th.optim.Adam(net.parameters(), lr=1e-3)\n",
        "n_epochs = 100\n",
        "train_loss = []\n",
        "test_loss = []\n",
        "for epoch in range(n_epochs):\n",
        "  train_loss_epoch = []\n",
        "  test_loss_epoch = []\n",
        "  for file in train_files:\n",
        "    g, features, targets = load_data(file)\n",
        "    \n",
        "    net.train()\n",
        "    pred = net(g, features)\n",
        "    loss = F.mse_loss(pred, targets)\n",
        "    train_loss_epoch.append(loss.item())\n",
        "\n",
        "    optimizer.zero_grad()\n",
        "    loss.backward()\n",
        "    optimizer.step()\n",
        "  \n",
        "  for file in test_files:\n",
        "    g, features, targets = load_data(file)\n",
        "    pred = net(g, features)\n",
        "    loss = F.mse_loss(pred, targets)\n",
        "    test_loss_epoch.append(loss.item())\n",
        "\n",
        "  train_loss.append(np.mean(train_loss_epoch))\n",
        "  test_loss.append(np.mean(test_loss_epoch))\n",
        "\n",
        "  if epoch % 10 == 0:\n",
        "    print(f'Epoch: {epoch}, Train Loss: {train_loss[epoch]}, Test Loss: {test_loss[epoch]}')"
      ],
      "execution_count": 131,
      "outputs": [
        {
          "output_type": "stream",
          "text": [
            "/usr/local/lib/python3.6/dist-packages/torch/nn/functional.py:1569: UserWarning: nn.functional.sigmoid is deprecated. Use torch.sigmoid instead.\n",
            "  warnings.warn(\"nn.functional.sigmoid is deprecated. Use torch.sigmoid instead.\")\n"
          ],
          "name": "stderr"
        },
        {
          "output_type": "stream",
          "text": [
            "Epoch: 0, Train Loss: 0.1546418274856276, Test Loss: 0.07480077585205436\n",
            "Epoch: 10, Train Loss: 0.011405329185072333, Test Loss: 0.045326412189751863\n",
            "Epoch: 20, Train Loss: 0.010735140483464217, Test Loss: 0.048446732107549906\n",
            "Epoch: 30, Train Loss: 0.010211934614279826, Test Loss: 0.04518706118687987\n",
            "Epoch: 40, Train Loss: 0.009845206419413444, Test Loss: 0.04418879561126232\n",
            "Epoch: 50, Train Loss: 0.009575670843979525, Test Loss: 0.03923469386063516\n",
            "Epoch: 60, Train Loss: 0.009353279179413221, Test Loss: 0.03995015821419656\n",
            "Epoch: 70, Train Loss: 0.009315856711428852, Test Loss: 0.03836562926881015\n",
            "Epoch: 80, Train Loss: 0.009054983227724734, Test Loss: 0.03989159339107573\n",
            "Epoch: 90, Train Loss: 0.009128690308160811, Test Loss: 0.0390078853815794\n"
          ],
          "name": "stdout"
        }
      ]
    },
    {
      "cell_type": "code",
      "metadata": {
        "id": "B6JyVu0LDvvP",
        "colab_type": "code",
        "colab": {}
      },
      "source": [
        "g, features, targets = load_data('2020-05-08.pkl')"
      ],
      "execution_count": 0,
      "outputs": []
    },
    {
      "cell_type": "code",
      "metadata": {
        "id": "72lk1u8SF5VM",
        "colab_type": "code",
        "colab": {
          "base_uri": "https://localhost:8080/",
          "height": 283
        },
        "outputId": "b47b201e-5305-4587-b315-4f2c9ca84117"
      },
      "source": [
        "plt.plot(test_loss)"
      ],
      "execution_count": 128,
      "outputs": [
        {
          "output_type": "execute_result",
          "data": {
            "text/plain": [
              "[<matplotlib.lines.Line2D at 0x7fd3df7f06d8>]"
            ]
          },
          "metadata": {
            "tags": []
          },
          "execution_count": 128
        },
        {
          "output_type": "display_data",
          "data": {
            "image/png": "[encoded data removed]",
            "text/plain": [
              "<Figure size 432x288 with 1 Axes>"
            ]
          },
          "metadata": {
            "tags": [],
            "needs_background": "light"
          }
        }
      ]
    },
    {
      "cell_type": "code",
      "metadata": {
        "id": "TO9orKogK2_A",
        "colab_type": "code",
        "colab": {
          "base_uri": "https://localhost:8080/",
          "height": 195
        },
        "outputId": "c5d260c1-dd9f-47d2-a50d-77cc9d7a1a78"
      },
      "source": [
        "net(g, features)[:,0]"
      ],
      "execution_count": 135,
      "outputs": [
        {
          "output_type": "stream",
          "text": [
            "/usr/local/lib/python3.6/dist-packages/torch/nn/functional.py:1569: UserWarning: nn.functional.sigmoid is deprecated. Use torch.sigmoid instead.\n",
            "  warnings.warn(\"nn.functional.sigmoid is deprecated. Use torch.sigmoid instead.\")\n"
          ],
          "name": "stderr"
        },
        {
          "output_type": "execute_result",
          "data": {
            "text/plain": [
              "tensor([0.6941, 0.8000, 0.8767, 0.7080, 0.7609, 0.9390, 0.7111, 0.7013, 0.7055,\n",
              "        0.7298, 0.6627, 0.6357, 0.6986, 0.9148, 0.6782, 0.6761, 0.6837, 0.6516,\n",
              "        0.7975, 0.6867, 0.8832, 0.7439, 0.7615, 0.8097, 0.7871, 0.7345, 0.7256,\n",
              "        0.7268, 0.9159, 0.7143, 0.8024, 0.7713, 0.6987, 0.7401, 0.6740, 0.8778,\n",
              "        0.6578, 0.6710, 0.8032, 0.8746, 0.8491, 0.7558, 0.6956, 0.8018, 0.8008,\n",
              "        0.8262, 0.8229, 0.9277, 0.6423, 0.8532, 0.6204, 0.7529, 0.7883, 0.6793,\n",
              "        0.7882, 0.8050, 0.7454, 0.8340, 0.7563, 0.6321, 0.8309, 0.8340],\n",
              "       grad_fn=<SelectBackward>)"
            ]
          },
          "metadata": {
            "tags": []
          },
          "execution_count": 135
        }
      ]
    },
    {
      "cell_type": "code",
      "metadata": {
        "id": "q683nfbEdk65",
        "colab_type": "code",
        "colab": {
          "base_uri": "https://localhost:8080/",
          "height": 167
        },
        "outputId": "29c17a89-6e6f-4012-cae1-4245c78e9121"
      },
      "source": [
        "features[:,20]"
      ],
      "execution_count": 149,
      "outputs": [
        {
          "output_type": "error",
          "ename": "IndexError",
          "evalue": "ignored",
          "traceback": [
            "\u001b[0;31m---------------------------------------------------------------------------\u001b[0m",
            "\u001b[0;31mIndexError\u001b[0m                                Traceback (most recent call last)",
            "\u001b[0;32m<ipython-input-149-0a3f9c250388>\u001b[0m in \u001b[0;36m<module>\u001b[0;34m()\u001b[0m\n\u001b[0;32m----> 1\u001b[0;31m \u001b[0mfeatures\u001b[0m\u001b[0;34m[\u001b[0m\u001b[0;34m:\u001b[0m\u001b[0;34m,\u001b[0m\u001b[0;36m20\u001b[0m\u001b[0;34m]\u001b[0m\u001b[0;34m\u001b[0m\u001b[0;34m\u001b[0m\u001b[0m\n\u001b[0m",
            "\u001b[0;31mIndexError\u001b[0m: index 20 is out of bounds for dimension 1 with size 20"
          ]
        }
      ]
    }
  ]
}